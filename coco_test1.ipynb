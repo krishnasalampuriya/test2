{
  "nbformat": 4,
  "nbformat_minor": 0,
  "metadata": {
    "colab": {
      "name": "coco_test1.ipynb",
      "provenance": [],
      "collapsed_sections": []
    },
    "kernelspec": {
      "name": "python3",
      "display_name": "Python 3"
    },
    "language_info": {
      "name": "python"
    }
  },
  "cells": [
    {
      "cell_type": "markdown",
      "metadata": {
        "id": "PXnJhUbry7vF"
      },
      "source": [
        "###Steps to download custome aminity detection dataset\n",
        "1. Download dataset downloader python file from github\n",
        "2. upload that file on colab\n",
        "3. create a new file on colab by right clicking in files option on left hand side task bat\n",
        "  1. Name the new created file __init__.py\n",
        "  2. We need it because we will be importing from that file\n",
        "4. Download the annotations required to download our dataset\n",
        "5. Extract annotation \n",
        "\n",
        "- Run below code for downloading and extracting annotations file"
      ]
    },
    {
      "cell_type": "code",
      "metadata": {
        "id": "CyJawn5x0biD"
      },
      "source": [
        "from pycocotools.coco import COCO\n",
        "import requests\n",
        "import os\n",
        "import time\n",
        "import random"
      ],
      "execution_count": 1,
      "outputs": []
    },
    {
      "cell_type": "code",
      "metadata": {
        "colab": {
          "base_uri": "https://localhost:8080/"
        },
        "id": "yeaHIEMmz1oS",
        "outputId": "bdc8a641-c576-48d8-e0a9-d154bb1c9efd"
      },
      "source": [
        "!wget images.cocodataset.org/annotations/annotations_trainval2017.zip #download annotations"
      ],
      "execution_count": 2,
      "outputs": [
        {
          "output_type": "stream",
          "text": [
            "--2021-04-27 10:15:46--  http://images.cocodataset.org/annotations/annotations_trainval2017.zip\n",
            "Resolving images.cocodataset.org (images.cocodataset.org)... 52.216.204.147\n",
            "Connecting to images.cocodataset.org (images.cocodataset.org)|52.216.204.147|:80... connected.\n",
            "HTTP request sent, awaiting response... 200 OK\n",
            "Length: 252907541 (241M) [application/zip]\n",
            "Saving to: ‘annotations_trainval2017.zip’\n",
            "\n",
            "annotations_trainva 100%[===================>] 241.19M  93.4MB/s    in 2.6s    \n",
            "\n",
            "2021-04-27 10:15:48 (93.4 MB/s) - ‘annotations_trainval2017.zip’ saved [252907541/252907541]\n",
            "\n"
          ],
          "name": "stdout"
        }
      ]
    },
    {
      "cell_type": "code",
      "metadata": {
        "colab": {
          "base_uri": "https://localhost:8080/"
        },
        "id": "PnTbL04Wz6-_",
        "outputId": "844c55ab-2ce7-4ea6-83a0-ce6c7ad88bb5"
      },
      "source": [
        "!unzip /content/annotations_trainval2017.zip #extract annotations \n",
        "#annotations are nothing but information about our dataset where it is stored and url's"
      ],
      "execution_count": 3,
      "outputs": [
        {
          "output_type": "stream",
          "text": [
            "Archive:  /content/annotations_trainval2017.zip\n",
            "  inflating: annotations/instances_train2017.json  \n",
            "  inflating: annotations/instances_val2017.json  \n",
            "  inflating: annotations/captions_train2017.json  \n",
            "  inflating: annotations/captions_val2017.json  \n",
            "  inflating: annotations/person_keypoints_train2017.json  \n",
            "  inflating: annotations/person_keypoints_val2017.json  \n"
          ],
          "name": "stdout"
        }
      ]
    },
    {
      "cell_type": "code",
      "metadata": {
        "id": "N1zROfmi0Fuh"
      },
      "source": [
        "#import out custom downloader\n",
        "# we are creating our custom dataset from COCO dataset which is of 19GB but we are using only specific images\n",
        "from coco_pretrained import DownloadCoco"
      ],
      "execution_count": 6,
      "outputs": []
    },
    {
      "cell_type": "code",
      "metadata": {
        "colab": {
          "base_uri": "https://localhost:8080/"
        },
        "id": "M_Wrnbv40UAz",
        "outputId": "e8f897ab-6ecf-4705-a859-910d0ff6a3aa"
      },
      "source": [
        "download_dataset = DownloadCoco(\"/content/annotations/instances_train2017.json\")\n",
        "#give the path of our annotation file"
      ],
      "execution_count": 5,
      "outputs": [
        {
          "output_type": "stream",
          "text": [
            "loading annotations into memory...\n",
            "Done (t=18.65s)\n",
            "creating index...\n",
            "index created!\n"
          ],
          "name": "stdout"
        }
      ]
    },
    {
      "cell_type": "code",
      "metadata": {
        "colab": {
          "base_uri": "https://localhost:8080/"
        },
        "id": "YQ47Cf2Z0iw4",
        "outputId": "a6e72984-1eff-47bc-8515-a141cdb0d458"
      },
      "source": [
        "download_dataset.save_coco_location(\"/content/coco_images/\")\n",
        "#where we want to save our dataset give it path"
      ],
      "execution_count": 7,
      "outputs": [
        {
          "output_type": "stream",
          "text": [
            "dataset will be saved at path /content/coco_images/\n"
          ],
          "name": "stdout"
        }
      ]
    },
    {
      "cell_type": "code",
      "metadata": {
        "id": "PPb6KlJk0pIf"
      },
      "source": [
        "download_dataset.custom_coco()\n",
        "#begin download of our dataset it takes about 10-12 minutes for download on colab"
      ],
      "execution_count": null,
      "outputs": []
    },
    {
      "cell_type": "markdown",
      "metadata": {
        "id": "XNOgEhzy1GJM"
      },
      "source": [
        "### Read the code from coco_pretrained file for more detail"
      ]
    },
    {
      "cell_type": "markdown",
      "metadata": {
        "id": "1j57K1D91j3k"
      },
      "source": [
        "#### We only need certain classes to check which classes we are downloading call\n",
        "\n",
        "- download_dataset.show_current_annotations() method\n",
        "- to change classes pass the dictionary of {\"index\":\"class_name\"} to \n",
        "  - change_annot_dict(dict) function"
      ]
    },
    {
      "cell_type": "code",
      "metadata": {
        "id": "Wu1WWzME1hCJ"
      },
      "source": [
        ""
      ],
      "execution_count": null,
      "outputs": []
    }
  ]
}